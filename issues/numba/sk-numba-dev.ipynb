{
 "cells": [
  {
   "cell_type": "code",
   "execution_count": 1,
   "metadata": {},
   "outputs": [],
   "source": [
    "import chirpy_mk1"
   ]
  },
  {
   "cell_type": "code",
   "execution_count": 101,
   "metadata": {},
   "outputs": [],
   "source": [
    "from chirpy_mk1.utils import G_Newt, c_ls, MSUN_SI, MTSUN_SI, MRSUN_SI, PC_SI, GAMMA, Msun_to_sec\n",
    "from chirpy_mk1.ansatz import PSF_freq_ins, PSF_freq_int, PSF_freq_mrd\n",
    "from chirpy_mk1.ansatz import PSF_amp_ins, PSF_amp_int, PSF_amp_mrd\n",
    "from chirpy_mk1.ansatz import amp_ins_ansatz, amp_int_ansatz, amp_mrd_ansatz\n",
    "from chirpy_mk1.ansatz import freq_ins_ansatz, freq_int_ansatz, freq_mrd_ansatz\n",
    "from chirpy_mk1.ansatz import analytic_phase_ins_ansatz, analytic_phase_int_ansatz\n",
    "from chirpy_mk1.ansatz import analytic_phase_mrd_ansatz\n",
    "\n",
    "from chirpy_mk1.ansatz import analytic_phase_mrd_ansatz_approx\n",
    "\n",
    "import numpy as np\n",
    "from scipy import optimize\n",
    "import phenom"
   ]
  },
  {
   "cell_type": "code",
   "execution_count": 18,
   "metadata": {},
   "outputs": [],
   "source": [
    "import matplotlib\n",
    "import matplotlib.pyplot as plt\n",
    "matplotlib.rcParams.update({'font.size': 16}) "
   ]
  },
  {
   "cell_type": "code",
   "execution_count": null,
   "metadata": {},
   "outputs": [],
   "source": []
  },
  {
   "cell_type": "code",
   "execution_count": 49,
   "metadata": {},
   "outputs": [],
   "source": [
    "def setup_ins_coeffs(eta):\n",
    "    freq_inc_tc = PSF_freq_ins('tc',eta)\n",
    "    freq_inc_b = PSF_freq_ins('b',eta)\n",
    "    freq_inc_c = PSF_freq_ins('c',eta)\n",
    "\n",
    "    # amp\n",
    "    params_amp_ins={}\n",
    "    params_amp_ins.update({\n",
    "        'a0': np.float64(PSF_amp_ins('a0', eta)),\n",
    "        'a1': np.float64(PSF_amp_ins('a1', eta))\n",
    "    })\n",
    "\n",
    "    # amplitude ins model depends on freq ins model\n",
    "    params_amp_ins.update({\n",
    "        'tc':np.float64(freq_inc_tc),\n",
    "        'b':np.float64(freq_inc_b),\n",
    "        'c':np.float64(freq_inc_c)\n",
    "    })\n",
    "    \n",
    "    return params_amp_ins"
   ]
  },
  {
   "cell_type": "code",
   "execution_count": null,
   "metadata": {},
   "outputs": [],
   "source": []
  },
  {
   "cell_type": "code",
   "execution_count": 52,
   "metadata": {},
   "outputs": [],
   "source": [
    "def mk1_amp_ins(times, eta, params_amp_ins):\n",
    "    return amp_ins_ansatz(times, eta, params_amp_ins)"
   ]
  },
  {
   "cell_type": "code",
   "execution_count": null,
   "metadata": {},
   "outputs": [],
   "source": []
  },
  {
   "cell_type": "code",
   "execution_count": 229,
   "metadata": {},
   "outputs": [],
   "source": [
    "# times = np.linspace(-1000, -500, 100000)\n",
    "times = np.arange(-1000, -500, 1./2048/4)\n",
    "eta = np.float64(0.25)\n",
    "params_amp_ins = setup_ins_coeffs(eta)"
   ]
  },
  {
   "cell_type": "code",
   "execution_count": 230,
   "metadata": {},
   "outputs": [
    {
     "name": "stdout",
     "output_type": "stream",
     "text": [
      "939 ms ± 14.7 ms per loop (mean ± std. dev. of 7 runs, 1 loop each)\n"
     ]
    }
   ],
   "source": [
    "%timeit mk1_amp_ins(times, eta, params_amp_ins)"
   ]
  },
  {
   "cell_type": "code",
   "execution_count": 231,
   "metadata": {},
   "outputs": [],
   "source": [
    "amp = mk1_amp_ins(times, eta, params_amp_ins)"
   ]
  },
  {
   "cell_type": "code",
   "execution_count": 224,
   "metadata": {},
   "outputs": [
    {
     "data": {
      "text/plain": [
       "[<matplotlib.lines.Line2D at 0x1329a4cd0>]"
      ]
     },
     "execution_count": 224,
     "metadata": {},
     "output_type": "execute_result"
    },
    {
     "data": {
      "image/png": "[encoded data removed]",
      "text/plain": [
       "<Figure size 432x288 with 1 Axes>"
      ]
     },
     "metadata": {
      "needs_background": "light"
     },
     "output_type": "display_data"
    }
   ],
   "source": [
    "plt.figure()\n",
    "plt.plot(times, amp)"
   ]
  },
  {
   "cell_type": "code",
   "execution_count": null,
   "metadata": {},
   "outputs": [],
   "source": []
  },
  {
   "cell_type": "markdown",
   "metadata": {},
   "source": [
    "# explicit amp ins function"
   ]
  },
  {
   "cell_type": "code",
   "execution_count": 57,
   "metadata": {},
   "outputs": [],
   "source": [
    "from chirpy_mk1.pn import TaylorT3_Omega_new, Hhat22_x"
   ]
  },
  {
   "cell_type": "code",
   "execution_count": 102,
   "metadata": {},
   "outputs": [],
   "source": [
    "import math"
   ]
  },
  {
   "cell_type": "code",
   "execution_count": 109,
   "metadata": {},
   "outputs": [],
   "source": [
    "def explicit_TaylorT3_Omega_new(t, tc, eta, M):\n",
    "\n",
    "    Msec = Msun_to_sec(M)\n",
    "    Msec = M\n",
    "\n",
    "    pi2 = math.pi*math.pi\n",
    "\n",
    "    c1 = eta/(5.*Msec)\n",
    "\n",
    "    td = c1 * (tc - t)\n",
    "\n",
    "#     td = np.sqrt(td**2 + 1)\n",
    "\n",
    "    theta = td**(-1./8.) # -1./8. = -0.125\n",
    "\n",
    "    theta2 = theta*theta\n",
    "    theta3 = theta2*theta\n",
    "    theta4 = theta3*theta\n",
    "    theta5 = theta4*theta\n",
    "    theta6 = theta5*theta\n",
    "    theta7 = theta6*theta\n",
    "\n",
    "    # pre factor\n",
    "    ftaN = 1. / ( 8. * math.pi * Msec  )\n",
    "    # 0PN\n",
    "    fts1 = 1.\n",
    "    # 0.5PN = 0 in GR\n",
    "    # 1PN\n",
    "    fta2 = 7.43/26.88 + 1.1/3.2 * eta\n",
    "    # 1.5PN\n",
    "    fta3 = -3./10. * math.pi\n",
    "    # 2PN\n",
    "    fta4 = 1.855099/14.450688 + 5.6975/25.8048 * eta + 3.71/20.48 * eta*eta\n",
    "    # 2.5PN\n",
    "    fta5 = (-7.729/21.504 + 1.3/25.6 * eta) * math.pi\n",
    "    # 3PN\n",
    "    fta6 = -7.20817631400877/2.88412611379200 + 5.3/20.0 * pi2 + 1.07/2.80 * GAMMA  \\\n",
    "           + (25.302017977/4.161798144 - 4.51/20.48 * pi2) * eta \\\n",
    "           - 3.0913/183.5008 * eta*eta + 2.35925/17.69472 * eta*eta*eta\n",
    "\n",
    "    # 3.5PN\n",
    "    fta7 = (-1.88516689/4.33520640 - 9.7765/25.8048 * eta + 1.41769/12.90240 * eta*eta) * math.pi\n",
    "\n",
    "    # 3PN log term\n",
    "    ftal6 = 1.07/2.80\n",
    "\n",
    "\n",
    "    full = theta3*ftaN * (fts1 \\\n",
    "             + fta2*theta2 \\\n",
    "             + fta3*theta3 \\\n",
    "             + fta4*theta4 \\\n",
    "             + fta5*theta5 \\\n",
    "             + (fta6 + ftal6*math.log(2.*theta))*theta6 \\\n",
    "             + fta7*theta7)\n",
    "\n",
    "    return full * 2 * math.pi # 2pi to go from freq to angular freq"
   ]
  },
  {
   "cell_type": "code",
   "execution_count": 114,
   "metadata": {},
   "outputs": [],
   "source": [
    "def explicit_freq_ins_ansatz(t, eta, tc, b, c):\n",
    "    \"\"\"\n",
    "    this is the frequency inspiral ansatz.\n",
    "    I needed an separate function so that I could use it in the amplitude inspiral model\n",
    "    \"\"\"\n",
    "\n",
    "#     tc = params['tc']\n",
    "#     b = params['b']\n",
    "#     c = params['c']\n",
    "    M = 1\n",
    "\n",
    "    tau = eta * (tc - t) / (5*M)\n",
    "    \n",
    "    t3 = np.array([explicit_TaylorT3_Omega_new(tt, tc, eta, M) for tt in t])\n",
    "    \n",
    "    model = (t3 + b*tau**(-9./8.) + c*tau**(-10./8.))\n",
    "\n",
    "    return model"
   ]
  },
  {
   "cell_type": "code",
   "execution_count": 115,
   "metadata": {},
   "outputs": [],
   "source": [
    "def explicit_amp_ins_ansatz(t, eta, tc, a0, a1, b, c):\n",
    "    tau = (tc-t)\n",
    "    \n",
    "    GW22AngFreq = explicit_freq_ins_ansatz(t, eta, tc, b, c)\n",
    "    OrgAngFreq = GW22AngFreq / 2.\n",
    "\n",
    "    M = 1\n",
    "    x = (M*OrgAngFreq)**(2./3)\n",
    "\n",
    "    T3amp = np.abs( Hhat22_x(x, eta) )\n",
    "\n",
    "    model = T3amp + a0*tau**(-9./8.) + a1*tau**(-10./8.)\n",
    "\n",
    "    return model"
   ]
  },
  {
   "cell_type": "code",
   "execution_count": 116,
   "metadata": {},
   "outputs": [],
   "source": [
    "tc = params_amp_ins['tc']\n",
    "a0 = params_amp_ins['a0']\n",
    "a1 = params_amp_ins['a1']\n",
    "b = params_amp_ins['b']\n",
    "c = params_amp_ins['c']"
   ]
  },
  {
   "cell_type": "code",
   "execution_count": 117,
   "metadata": {},
   "outputs": [
    {
     "name": "stdout",
     "output_type": "stream",
     "text": [
      "55.9 ms ± 859 µs per loop (mean ± std. dev. of 7 runs, 10 loops each)\n"
     ]
    }
   ],
   "source": [
    "%timeit explicit_amp_ins_ansatz(times, eta, tc, a0, a1, b, c)"
   ]
  },
  {
   "cell_type": "code",
   "execution_count": 118,
   "metadata": {},
   "outputs": [],
   "source": [
    "numba_amp = explicit_amp_ins_ansatz(times, eta, tc, a0, a1, b, c)"
   ]
  },
  {
   "cell_type": "code",
   "execution_count": 63,
   "metadata": {},
   "outputs": [],
   "source": [
    "from numba import vectorize"
   ]
  },
  {
   "cell_type": "code",
   "execution_count": 64,
   "metadata": {},
   "outputs": [
    {
     "data": {
      "text/plain": [
       "numpy.float64"
      ]
     },
     "execution_count": 64,
     "metadata": {},
     "output_type": "execute_result"
    }
   ],
   "source": [
    "type(eta)"
   ]
  },
  {
   "cell_type": "code",
   "execution_count": 65,
   "metadata": {},
   "outputs": [
    {
     "data": {
      "text/plain": [
       "numpy.float64"
      ]
     },
     "execution_count": 65,
     "metadata": {},
     "output_type": "execute_result"
    }
   ],
   "source": [
    "type(c)"
   ]
  },
  {
   "cell_type": "code",
   "execution_count": 75,
   "metadata": {},
   "outputs": [],
   "source": [
    "@vectorize(['int64(int64, int64)']) # Type signature and target are required for the GPU\n",
    "def add_ufunc(x, y):\n",
    "    return x + y"
   ]
  },
  {
   "cell_type": "code",
   "execution_count": 76,
   "metadata": {},
   "outputs": [],
   "source": [
    "a = np.array([1, 2, 3, 4])\n",
    "b = np.array([10, 20, 30, 40])"
   ]
  },
  {
   "cell_type": "code",
   "execution_count": 77,
   "metadata": {},
   "outputs": [
    {
     "data": {
      "text/plain": [
       "array([11, 22, 33, 44])"
      ]
     },
     "execution_count": 77,
     "metadata": {},
     "output_type": "execute_result"
    }
   ],
   "source": [
    "add_ufunc(a,b)"
   ]
  },
  {
   "cell_type": "code",
   "execution_count": 79,
   "metadata": {},
   "outputs": [
    {
     "data": {
      "text/plain": [
       "array([14, 24, 34, 44])"
      ]
     },
     "execution_count": 79,
     "metadata": {},
     "output_type": "execute_result"
    }
   ],
   "source": [
    "add_ufunc(4,b)"
   ]
  },
  {
   "cell_type": "code",
   "execution_count": 122,
   "metadata": {},
   "outputs": [],
   "source": [
    "from numba import jit, njit"
   ]
  },
  {
   "cell_type": "code",
   "execution_count": 123,
   "metadata": {},
   "outputs": [],
   "source": [
    "# @vectorize(['float64(float64,float64,float64,float64,float64,float64,float64)'])\n",
    "@njit\n",
    "def numba_vec_amp_ins_ansatz(t, eta, tc, a0, a1, b, c):\n",
    "    tau = (tc-t)\n",
    "    \n",
    "    GW22AngFreq = explicit_freq_ins_ansatz(t, eta, tc, b, c)\n",
    "#     GW22AngFreq = np.ones(len(t))\n",
    "    OrgAngFreq = GW22AngFreq / 2.\n",
    "\n",
    "    M = 1\n",
    "    x = (M*OrgAngFreq)**(2./3)\n",
    "\n",
    "#     T3amp = np.abs( Hhat22_x(x, eta) )\n",
    "    T3amp = np.ones(len(t))\n",
    "\n",
    "    model = T3amp + a0*tau**(-9./8.) + a1*tau**(-10./8.)\n",
    "\n",
    "    return model"
   ]
  },
  {
   "cell_type": "code",
   "execution_count": 124,
   "metadata": {},
   "outputs": [
    {
     "ename": "TypingError",
     "evalue": "Failed in nopython mode pipeline (step: nopython frontend)\nUntyped global name 'explicit_freq_ins_ansatz': cannot determine Numba type of <class 'function'>\n\nFile \"<ipython-input-123-cef1879e672a>\", line 6:\ndef numba_vec_amp_ins_ansatz(t, eta, tc, a0, a1, b, c):\n    <source elided>\n    \n    GW22AngFreq = explicit_freq_ins_ansatz(t, eta, tc, b, c)\n    ^\n\nThis is not usually a problem with Numba itself but instead often caused by\nthe use of unsupported features or an issue in resolving types.\n\nTo see Python/NumPy features supported by the latest release of Numba visit:\nhttp://numba.pydata.org/numba-doc/latest/reference/pysupported.html\nand\nhttp://numba.pydata.org/numba-doc/latest/reference/numpysupported.html\n\nFor more information about typing errors and how to debug them visit:\nhttp://numba.pydata.org/numba-doc/latest/user/troubleshoot.html#my-code-doesn-t-compile\n\nIf you think your code should work with Numba, please report the error message\nand traceback, along with a minimal reproducer at:\nhttps://github.com/numba/numba/issues/new\n",
     "output_type": "error",
     "traceback": [
      "\u001b[0;31m---------------------------------------------------------------------------\u001b[0m",
      "\u001b[0;31mTypingError\u001b[0m                               Traceback (most recent call last)",
      "\u001b[0;32m<ipython-input-124-f19b969eadcf>\u001b[0m in \u001b[0;36m<module>\u001b[0;34m\u001b[0m\n\u001b[0;32m----> 1\u001b[0;31m \u001b[0mnumba_vec_amp_ins_ansatz\u001b[0m\u001b[0;34m(\u001b[0m\u001b[0mtimes\u001b[0m\u001b[0;34m,\u001b[0m \u001b[0meta\u001b[0m\u001b[0;34m,\u001b[0m \u001b[0mtc\u001b[0m\u001b[0;34m,\u001b[0m \u001b[0ma0\u001b[0m\u001b[0;34m,\u001b[0m \u001b[0ma1\u001b[0m\u001b[0;34m,\u001b[0m \u001b[0mb\u001b[0m\u001b[0;34m,\u001b[0m \u001b[0mc\u001b[0m\u001b[0;34m)\u001b[0m\u001b[0;34m\u001b[0m\u001b[0;34m\u001b[0m\u001b[0m\n\u001b[0m",
      "\u001b[0;32m~/anaconda3/envs/chirpy-mk1/lib/python3.7/site-packages/numba/dispatcher.py\u001b[0m in \u001b[0;36m_compile_for_args\u001b[0;34m(self, *args, **kws)\u001b[0m\n\u001b[1;32m    399\u001b[0m                 \u001b[0me\u001b[0m\u001b[0;34m.\u001b[0m\u001b[0mpatch_message\u001b[0m\u001b[0;34m(\u001b[0m\u001b[0mmsg\u001b[0m\u001b[0;34m)\u001b[0m\u001b[0;34m\u001b[0m\u001b[0;34m\u001b[0m\u001b[0m\n\u001b[1;32m    400\u001b[0m \u001b[0;34m\u001b[0m\u001b[0m\n\u001b[0;32m--> 401\u001b[0;31m             \u001b[0merror_rewrite\u001b[0m\u001b[0;34m(\u001b[0m\u001b[0me\u001b[0m\u001b[0;34m,\u001b[0m \u001b[0;34m'typing'\u001b[0m\u001b[0;34m)\u001b[0m\u001b[0;34m\u001b[0m\u001b[0;34m\u001b[0m\u001b[0m\n\u001b[0m\u001b[1;32m    402\u001b[0m         \u001b[0;32mexcept\u001b[0m \u001b[0merrors\u001b[0m\u001b[0;34m.\u001b[0m\u001b[0mUnsupportedError\u001b[0m \u001b[0;32mas\u001b[0m \u001b[0me\u001b[0m\u001b[0;34m:\u001b[0m\u001b[0;34m\u001b[0m\u001b[0;34m\u001b[0m\u001b[0m\n\u001b[1;32m    403\u001b[0m             \u001b[0;31m# Something unsupported is present in the user code, add help info\u001b[0m\u001b[0;34m\u001b[0m\u001b[0;34m\u001b[0m\u001b[0;34m\u001b[0m\u001b[0m\n",
      "\u001b[0;32m~/anaconda3/envs/chirpy-mk1/lib/python3.7/site-packages/numba/dispatcher.py\u001b[0m in \u001b[0;36merror_rewrite\u001b[0;34m(e, issue_type)\u001b[0m\n\u001b[1;32m    342\u001b[0m                 \u001b[0;32mraise\u001b[0m \u001b[0me\u001b[0m\u001b[0;34m\u001b[0m\u001b[0;34m\u001b[0m\u001b[0m\n\u001b[1;32m    343\u001b[0m             \u001b[0;32melse\u001b[0m\u001b[0;34m:\u001b[0m\u001b[0;34m\u001b[0m\u001b[0;34m\u001b[0m\u001b[0m\n\u001b[0;32m--> 344\u001b[0;31m                 \u001b[0mreraise\u001b[0m\u001b[0;34m(\u001b[0m\u001b[0mtype\u001b[0m\u001b[0;34m(\u001b[0m\u001b[0me\u001b[0m\u001b[0;34m)\u001b[0m\u001b[0;34m,\u001b[0m \u001b[0me\u001b[0m\u001b[0;34m,\u001b[0m \u001b[0;32mNone\u001b[0m\u001b[0;34m)\u001b[0m\u001b[0;34m\u001b[0m\u001b[0;34m\u001b[0m\u001b[0m\n\u001b[0m\u001b[1;32m    345\u001b[0m \u001b[0;34m\u001b[0m\u001b[0m\n\u001b[1;32m    346\u001b[0m         \u001b[0margtypes\u001b[0m \u001b[0;34m=\u001b[0m \u001b[0;34m[\u001b[0m\u001b[0;34m]\u001b[0m\u001b[0;34m\u001b[0m\u001b[0;34m\u001b[0m\u001b[0m\n",
      "\u001b[0;32m~/anaconda3/envs/chirpy-mk1/lib/python3.7/site-packages/numba/six.py\u001b[0m in \u001b[0;36mreraise\u001b[0;34m(tp, value, tb)\u001b[0m\n\u001b[1;32m    666\u001b[0m             \u001b[0mvalue\u001b[0m \u001b[0;34m=\u001b[0m \u001b[0mtp\u001b[0m\u001b[0;34m(\u001b[0m\u001b[0;34m)\u001b[0m\u001b[0;34m\u001b[0m\u001b[0;34m\u001b[0m\u001b[0m\n\u001b[1;32m    667\u001b[0m         \u001b[0;32mif\u001b[0m \u001b[0mvalue\u001b[0m\u001b[0;34m.\u001b[0m\u001b[0m__traceback__\u001b[0m \u001b[0;32mis\u001b[0m \u001b[0;32mnot\u001b[0m \u001b[0mtb\u001b[0m\u001b[0;34m:\u001b[0m\u001b[0;34m\u001b[0m\u001b[0;34m\u001b[0m\u001b[0m\n\u001b[0;32m--> 668\u001b[0;31m             \u001b[0;32mraise\u001b[0m \u001b[0mvalue\u001b[0m\u001b[0;34m.\u001b[0m\u001b[0mwith_traceback\u001b[0m\u001b[0;34m(\u001b[0m\u001b[0mtb\u001b[0m\u001b[0;34m)\u001b[0m\u001b[0;34m\u001b[0m\u001b[0;34m\u001b[0m\u001b[0m\n\u001b[0m\u001b[1;32m    669\u001b[0m         \u001b[0;32mraise\u001b[0m \u001b[0mvalue\u001b[0m\u001b[0;34m\u001b[0m\u001b[0;34m\u001b[0m\u001b[0m\n\u001b[1;32m    670\u001b[0m \u001b[0;34m\u001b[0m\u001b[0m\n",
      "\u001b[0;31mTypingError\u001b[0m: Failed in nopython mode pipeline (step: nopython frontend)\nUntyped global name 'explicit_freq_ins_ansatz': cannot determine Numba type of <class 'function'>\n\nFile \"<ipython-input-123-cef1879e672a>\", line 6:\ndef numba_vec_amp_ins_ansatz(t, eta, tc, a0, a1, b, c):\n    <source elided>\n    \n    GW22AngFreq = explicit_freq_ins_ansatz(t, eta, tc, b, c)\n    ^\n\nThis is not usually a problem with Numba itself but instead often caused by\nthe use of unsupported features or an issue in resolving types.\n\nTo see Python/NumPy features supported by the latest release of Numba visit:\nhttp://numba.pydata.org/numba-doc/latest/reference/pysupported.html\nand\nhttp://numba.pydata.org/numba-doc/latest/reference/numpysupported.html\n\nFor more information about typing errors and how to debug them visit:\nhttp://numba.pydata.org/numba-doc/latest/user/troubleshoot.html#my-code-doesn-t-compile\n\nIf you think your code should work with Numba, please report the error message\nand traceback, along with a minimal reproducer at:\nhttps://github.com/numba/numba/issues/new\n"
     ]
    }
   ],
   "source": [
    "numba_vec_amp_ins_ansatz(times, eta, tc, a0, a1, b, c)"
   ]
  },
  {
   "cell_type": "code",
   "execution_count": 90,
   "metadata": {},
   "outputs": [
    {
     "name": "stdout",
     "output_type": "stream",
     "text": [
      "396 µs ± 10.3 µs per loop (mean ± std. dev. of 7 runs, 1000 loops each)\n"
     ]
    }
   ],
   "source": [
    "%timeit numba_vec_amp_ins_ansatz(times, eta, tc, a0, a1, b, c)"
   ]
  },
  {
   "cell_type": "code",
   "execution_count": null,
   "metadata": {},
   "outputs": [],
   "source": []
  },
  {
   "cell_type": "code",
   "execution_count": null,
   "metadata": {},
   "outputs": [],
   "source": []
  },
  {
   "cell_type": "markdown",
   "metadata": {},
   "source": [
    "# jit omega pn ins?"
   ]
  },
  {
   "cell_type": "code",
   "execution_count": 167,
   "metadata": {},
   "outputs": [],
   "source": [
    "# @njit\n",
    "# @njit(['float64[:](float64[:],float64,float64,float64)'])\n",
    "@vectorize(['float64(float64,float64,float64,float64)'])\n",
    "def numba_vec_TaylorT3_Omega_new(t, tc, eta, M):\n",
    "\n",
    "#     Msec = Msun_to_sec(M)\n",
    "    Msec = M\n",
    "\n",
    "    pi2 = math.pi*math.pi\n",
    "\n",
    "    c1 = eta/(5.*Msec)\n",
    "\n",
    "    td = c1 * (tc - t)\n",
    "\n",
    "#     td = np.sqrt(td**2 + 1)\n",
    "\n",
    "    theta = td**(-1./8.) # -1./8. = -0.125\n",
    "\n",
    "    theta2 = theta*theta\n",
    "    theta3 = theta2*theta\n",
    "    theta4 = theta3*theta\n",
    "    theta5 = theta4*theta\n",
    "    theta6 = theta5*theta\n",
    "    theta7 = theta6*theta\n",
    "\n",
    "    # pre factor\n",
    "    ftaN = 1. / ( 8. * math.pi * Msec  )\n",
    "    # 0PN\n",
    "    fts1 = 1.\n",
    "    # 0.5PN = 0 in GR\n",
    "    # 1PN\n",
    "    fta2 = 7.43/26.88 + 1.1/3.2 * eta\n",
    "    # 1.5PN\n",
    "    fta3 = -3./10. * math.pi\n",
    "    # 2PN\n",
    "    fta4 = 1.855099/14.450688 + 5.6975/25.8048 * eta + 3.71/20.48 * eta*eta\n",
    "    # 2.5PN\n",
    "    fta5 = (-7.729/21.504 + 1.3/25.6 * eta) * math.pi\n",
    "    # 3PN\n",
    "    fta6 = -7.20817631400877/2.88412611379200 + 5.3/20.0 * pi2 + 1.07/2.80 * GAMMA  \\\n",
    "           + (25.302017977/4.161798144 - 4.51/20.48 * pi2) * eta \\\n",
    "           - 3.0913/183.5008 * eta*eta + 2.35925/17.69472 * eta*eta*eta\n",
    "\n",
    "    # 3.5PN\n",
    "    fta7 = (-1.88516689/4.33520640 - 9.7765/25.8048 * eta + 1.41769/12.90240 * eta*eta) * math.pi\n",
    "\n",
    "    # 3PN log term\n",
    "    ftal6 = 1.07/2.80\n",
    "\n",
    "\n",
    "    full = theta3*ftaN * (fts1 \\\n",
    "             + fta2*theta2 \\\n",
    "             + fta3*theta3 \\\n",
    "             + fta4*theta4 \\\n",
    "             + fta5*theta5 \\\n",
    "             + (fta6 + ftal6*math.log(2.*theta))*theta6 \\\n",
    "             + fta7*theta7)\n",
    "\n",
    "    return full * 2 * math.pi # 2pi to go from freq to angular freq"
   ]
  },
  {
   "cell_type": "code",
   "execution_count": 169,
   "metadata": {},
   "outputs": [
    {
     "data": {
      "text/plain": [
       "0.03564714965219574"
      ]
     },
     "execution_count": 169,
     "metadata": {},
     "output_type": "execute_result"
    }
   ],
   "source": [
    "numba_vec_TaylorT3_Omega_new(times[0], tc, eta, np.float64(1))"
   ]
  },
  {
   "cell_type": "code",
   "execution_count": 170,
   "metadata": {},
   "outputs": [
    {
     "data": {
      "text/plain": [
       "[numpy.ndarray, numpy.float64, numpy.float64, numpy.float64]"
      ]
     },
     "execution_count": 170,
     "metadata": {},
     "output_type": "execute_result"
    }
   ],
   "source": [
    "list(map(type,[times, tc, eta, np.float64(1)]))"
   ]
  },
  {
   "cell_type": "code",
   "execution_count": 254,
   "metadata": {},
   "outputs": [
    {
     "name": "stdout",
     "output_type": "stream",
     "text": [
      "4.24 ms ± 140 µs per loop (mean ± std. dev. of 7 runs, 100 loops each)\n"
     ]
    }
   ],
   "source": [
    "%timeit numba_vec_TaylorT3_Omega_new(times, tc, eta, np.float64(1))"
   ]
  },
  {
   "cell_type": "code",
   "execution_count": 255,
   "metadata": {},
   "outputs": [],
   "source": [
    "nt3 = numba_vec_TaylorT3_Omega_new(times, tc, eta, np.float64(1))"
   ]
  },
  {
   "cell_type": "code",
   "execution_count": 256,
   "metadata": {},
   "outputs": [
    {
     "name": "stdout",
     "output_type": "stream",
     "text": [
      "3.38 ms ± 224 µs per loop (mean ± std. dev. of 7 runs, 100 loops each)\n"
     ]
    }
   ],
   "source": [
    "%timeit TaylorT3_Omega_new(times, tc, eta, 1)"
   ]
  },
  {
   "cell_type": "code",
   "execution_count": 257,
   "metadata": {},
   "outputs": [],
   "source": [
    "t3 = TaylorT3_Omega_new(times, tc, eta, 1)"
   ]
  },
  {
   "cell_type": "code",
   "execution_count": 258,
   "metadata": {},
   "outputs": [],
   "source": [
    "np.testing.assert_array_almost_equal(t3, nt3)"
   ]
  },
  {
   "cell_type": "code",
   "execution_count": null,
   "metadata": {},
   "outputs": [],
   "source": []
  },
  {
   "cell_type": "code",
   "execution_count": null,
   "metadata": {},
   "outputs": [],
   "source": []
  },
  {
   "cell_type": "code",
   "execution_count": 176,
   "metadata": {},
   "outputs": [],
   "source": [
    "@vectorize(['float64(float64,float64,float64,float64,float64)'])\n",
    "def numba_vec_freq_ins_ansatz(t, eta, tc, b, c):\n",
    "#     tc = params['tc']\n",
    "#     b = params['b']\n",
    "#     c = params['c']\n",
    "    M = 1\n",
    "\n",
    "    tau = eta * (tc - t) / (5*M)\n",
    "    \n",
    "    t3 = numba_vec_TaylorT3_Omega_new(t, tc, eta, np.float64(1))\n",
    "#     t3 = np.array([explicit_TaylorT3_Omega_new(tt, tc, eta, M) for tt in t])\n",
    "    \n",
    "    model = (t3 + b*tau**(-9./8.) + c*tau**(-10./8.))\n",
    "\n",
    "    return model"
   ]
  },
  {
   "cell_type": "code",
   "execution_count": 179,
   "metadata": {},
   "outputs": [
    {
     "name": "stdout",
     "output_type": "stream",
     "text": [
      "737 µs ± 17.4 µs per loop (mean ± std. dev. of 7 runs, 1000 loops each)\n"
     ]
    }
   ],
   "source": [
    "%timeit numba_vec_freq_ins_ansatz(times, eta, tc, b, c)"
   ]
  },
  {
   "cell_type": "code",
   "execution_count": 183,
   "metadata": {},
   "outputs": [
    {
     "name": "stdout",
     "output_type": "stream",
     "text": [
      "662 µs ± 9.31 µs per loop (mean ± std. dev. of 7 runs, 1000 loops each)\n"
     ]
    }
   ],
   "source": [
    "%timeit freq_ins_ansatz(times, eta, {'tc':tc, 'b':b, 'c':c})"
   ]
  },
  {
   "cell_type": "code",
   "execution_count": 185,
   "metadata": {},
   "outputs": [],
   "source": [
    "aa1 = freq_ins_ansatz(times, eta, {'tc':tc, 'b':b, 'c':c})\n",
    "aa2 = numba_vec_freq_ins_ansatz(times, eta, tc, b, c)"
   ]
  },
  {
   "cell_type": "code",
   "execution_count": 186,
   "metadata": {},
   "outputs": [],
   "source": [
    "np.testing.assert_array_almost_equal(aa1, aa2)"
   ]
  },
  {
   "cell_type": "code",
   "execution_count": null,
   "metadata": {},
   "outputs": [],
   "source": []
  },
  {
   "cell_type": "code",
   "execution_count": 200,
   "metadata": {},
   "outputs": [],
   "source": [
    "@vectorize(['float64(float64,float64)'])\n",
    "def numba_vec_Hhat22_x(x, eta):\n",
    "\n",
    "#     xarr = np.zeros(6, dtype=np.complex128)\n",
    "    xarr = [0+1.j, 0+1.j, 0+1.j, 0+1.j, 0+1.j, 0+1.j]\n",
    "\n",
    "    C = 0.577216 # is the Euler constant\n",
    "\n",
    "    xarr[0] = 1.\n",
    "    xarr[1] = -107./42 + 55*eta/42\n",
    "    xarr[2] = 2.*math.pi\n",
    "    xarr[3] = -2173./1512 - 1069.*eta/216 + 2047.*eta**2/1512\n",
    "    xarr[4] = (-107*math.pi/21 - 24.*1.j*eta + 34.*math.pi*eta/21) # there is an i... not sure what to do...\n",
    "\n",
    "    x5a = 27027409./646800 - 856.*C/105 + 428*1.j*math.pi/105 + 2.*math.pi**2/3\n",
    "    x5b = (-278185./33264 + 41*math.pi**2/96)*eta - 20261.*eta**2/2772 + 114635.*eta**3/99792\n",
    "\n",
    "    x5log =  - 428.*math.log(16*x)/105\n",
    "\n",
    "    xarr[5] = (x5a) + x5b # there is an i...  not sure what to do...\n",
    "\n",
    "    pre = math.sqrt(16.*math.pi/5) * 2 * eta\n",
    "\n",
    "    pn = xarr[0] + x*xarr[1] + x**(3/2.)*xarr[2] + x**2*xarr[3] + x**(5/2.)*xarr[4] + x**3*(xarr[5] + x5log)\n",
    "\n",
    "    return pre * abs(pn) * x"
   ]
  },
  {
   "cell_type": "code",
   "execution_count": null,
   "metadata": {},
   "outputs": [],
   "source": []
  },
  {
   "cell_type": "code",
   "execution_count": null,
   "metadata": {},
   "outputs": [],
   "source": []
  },
  {
   "cell_type": "code",
   "execution_count": 266,
   "metadata": {},
   "outputs": [],
   "source": [
    "@vectorize(['float64(float64,float64,float64,float64,float64,float64,float64)'])\n",
    "def numba_vec_amp_ins_ansatz(t, eta, tc, a0, a1, b, c):\n",
    "    tau = (tc-t)\n",
    "    \n",
    "    GW22AngFreq = numba_vec_freq_ins_ansatz(t, eta, tc, b, c)\n",
    "    OrgAngFreq = GW22AngFreq / 2.\n",
    "\n",
    "    M = 1\n",
    "    x = (M*OrgAngFreq)**(2./3)\n",
    "\n",
    "#     T3amp = abs( numba_vec_Hhat22_x(x, eta) )\n",
    "    T3amp = numba_vec_Hhat22_x(x, eta)\n",
    "\n",
    "    model = T3amp + a0*tau**(-9./8.) + a1*tau**(-10./8.)\n",
    "\n",
    "    return model"
   ]
  },
  {
   "cell_type": "code",
   "execution_count": null,
   "metadata": {},
   "outputs": [],
   "source": []
  },
  {
   "cell_type": "code",
   "execution_count": null,
   "metadata": {},
   "outputs": [],
   "source": []
  },
  {
   "cell_type": "code",
   "execution_count": 232,
   "metadata": {},
   "outputs": [
    {
     "name": "stdout",
     "output_type": "stream",
     "text": [
      "1.6 s ± 14.6 ms per loop (mean ± std. dev. of 7 runs, 1 loop each)\n"
     ]
    }
   ],
   "source": [
    "%timeit numba_vec_amp_ins_ansatz(times, eta, tc, a0, a1, b, c)"
   ]
  },
  {
   "cell_type": "code",
   "execution_count": 233,
   "metadata": {},
   "outputs": [],
   "source": [
    "amp_numba_vec = numba_vec_amp_ins_ansatz(times, eta, tc, a0, a1, b, c)"
   ]
  },
  {
   "cell_type": "code",
   "execution_count": null,
   "metadata": {},
   "outputs": [],
   "source": []
  },
  {
   "cell_type": "code",
   "execution_count": 234,
   "metadata": {},
   "outputs": [
    {
     "name": "stdout",
     "output_type": "stream",
     "text": [
      "916 ms ± 4.04 ms per loop (mean ± std. dev. of 7 runs, 1 loop each)\n"
     ]
    }
   ],
   "source": [
    "%timeit mk1_amp_ins(times, eta, params_amp_ins)"
   ]
  },
  {
   "cell_type": "code",
   "execution_count": 235,
   "metadata": {},
   "outputs": [],
   "source": [
    "amp = mk1_amp_ins(times, eta, params_amp_ins)"
   ]
  },
  {
   "cell_type": "code",
   "execution_count": 236,
   "metadata": {},
   "outputs": [],
   "source": [
    "np.testing.assert_array_almost_equal(amp_numba_vec, amp)"
   ]
  },
  {
   "cell_type": "code",
   "execution_count": 237,
   "metadata": {},
   "outputs": [
    {
     "data": {
      "text/plain": [
       "[<matplotlib.lines.Line2D at 0x132614d50>]"
      ]
     },
     "execution_count": 237,
     "metadata": {},
     "output_type": "execute_result"
    },
    {
     "data": {
      "image/png": "[encoded data removed]",
      "text/plain": [
       "<Figure size 432x288 with 1 Axes>"
      ]
     },
     "metadata": {
      "needs_background": "light"
     },
     "output_type": "display_data"
    }
   ],
   "source": [
    "plt.figure()\n",
    "plt.plot(times, amp)\n",
    "plt.plot(times, amp_numba_vec, ls='--')"
   ]
  },
  {
   "cell_type": "code",
   "execution_count": null,
   "metadata": {},
   "outputs": [],
   "source": []
  }
 ],
 "metadata": {
  "kernelspec": {
   "display_name": "Python 3",
   "language": "python",
   "name": "python3"
  },
  "language_info": {
   "codemirror_mode": {
    "name": "ipython",
    "version": 3
   },
   "file_extension": ".py",
   "mimetype": "text/x-python",
   "name": "python",
   "nbconvert_exporter": "python",
   "pygments_lexer": "ipython3",
   "version": "3.7.5"
  }
 },
 "nbformat": 4,
 "nbformat_minor": 4
}
