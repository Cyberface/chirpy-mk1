{
 "cells": [
  {
   "cell_type": "code",
   "execution_count": 63,
   "metadata": {},
   "outputs": [],
   "source": [
    "import chirpy_mk1\n",
    "import numpy as np\n",
    "from numba import vectorize\n",
    "import matplotlib.pyplot as plt"
   ]
  },
  {
   "cell_type": "code",
   "execution_count": 28,
   "metadata": {},
   "outputs": [],
   "source": [
    "from math import pi as PI\n",
    "from math import log, fabs, sqrt"
   ]
  },
  {
   "cell_type": "code",
   "execution_count": 2,
   "metadata": {},
   "outputs": [],
   "source": [
    "from chirpy_mk1.ansatz import PSF_amp_ins, PSF_freq_ins"
   ]
  },
  {
   "cell_type": "code",
   "execution_count": 3,
   "metadata": {},
   "outputs": [],
   "source": [
    "times = np.arange(-1000.,-500.,1./2048)"
   ]
  },
  {
   "cell_type": "code",
   "execution_count": 11,
   "metadata": {},
   "outputs": [],
   "source": [
    "GAMMA = 0.5772156649015329"
   ]
  },
  {
   "cell_type": "code",
   "execution_count": 4,
   "metadata": {},
   "outputs": [],
   "source": [
    "q = 1.\n",
    "eta = 1./(1. + q)**2"
   ]
  },
  {
   "cell_type": "code",
   "execution_count": 5,
   "metadata": {},
   "outputs": [],
   "source": [
    "freq_inc_tc = PSF_freq_ins('tc',eta)\n",
    "freq_inc_b = PSF_freq_ins('b',eta)\n",
    "freq_inc_c = PSF_freq_ins('c',eta)\n",
    "amp_a0 = PSF_amp_ins('a0', eta)\n",
    "amp_a1 = PSF_amp_ins('a1', eta)"
   ]
  },
  {
   "cell_type": "code",
   "execution_count": null,
   "metadata": {},
   "outputs": [],
   "source": []
  },
  {
   "cell_type": "code",
   "execution_count": 6,
   "metadata": {},
   "outputs": [],
   "source": [
    "params = {\n",
    "    'tc':freq_inc_tc,\n",
    "    'b':freq_inc_b,\n",
    "    'c':freq_inc_c,\n",
    "    'a0':amp_a0,\n",
    "    'a1':amp_a1\n",
    "}"
   ]
  },
  {
   "cell_type": "code",
   "execution_count": null,
   "metadata": {},
   "outputs": [],
   "source": []
  },
  {
   "cell_type": "code",
   "execution_count": 56,
   "metadata": {},
   "outputs": [],
   "source": [
    "def TaylorT3_Omega_new(t, tc, eta, M):\n",
    "    Msec = M\n",
    "\n",
    "    pi2 = PI*PI\n",
    "\n",
    "    c1 = eta/(5.*Msec)\n",
    "\n",
    "    td = c1 * (tc - t)\n",
    "\n",
    "\n",
    "    theta = td**(-1./8.)\n",
    "\n",
    "    theta2 = theta*theta\n",
    "    theta3 = theta2*theta\n",
    "    theta4 = theta3*theta\n",
    "    theta5 = theta4*theta\n",
    "    theta6 = theta5*theta\n",
    "    theta7 = theta6*theta\n",
    "\n",
    "    # pre factor\n",
    "    ftaN = 1. / ( 8. * PI * Msec  )\n",
    "    # 0PN\n",
    "    fts1 = 1.\n",
    "    # 0.5PN = 0 in GR\n",
    "    # 1PN\n",
    "    fta2 = 7.43/26.88 + 1.1/3.2 * eta\n",
    "    # 1.5PN\n",
    "    fta3 = -3./10. * PI\n",
    "    # 2PN\n",
    "    fta4 = 1.855099/14.450688 + 5.6975/25.8048 * eta + 3.71/20.48 * eta*eta\n",
    "    # 2.5PN\n",
    "    fta5 = (-7.729/21.504 + 1.3/25.6 * eta) * PI\n",
    "    # 3PN\n",
    "    fta6 = -7.20817631400877/2.88412611379200 + 5.3/20.0 * pi2 + 1.07/2.80 * GAMMA  \\\n",
    "           + (25.302017977/4.161798144 - 4.51/20.48 * pi2) * eta \\\n",
    "           - 3.0913/183.5008 * eta*eta + 2.35925/17.69472 * eta*eta*eta\n",
    "\n",
    "    # 3.5PN\n",
    "    fta7 = (-1.88516689/4.33520640 - 9.7765/25.8048 * eta + 1.41769/12.90240 * eta*eta) * PI\n",
    "\n",
    "    # 3PN log term\n",
    "    ftal6 = 1.07/2.80\n",
    "\n",
    "\n",
    "    full = theta3*ftaN * (fts1 \\\n",
    "             + fta2*theta2 \\\n",
    "             + fta3*theta3 \\\n",
    "             + fta4*theta4 \\\n",
    "             + fta5*theta5 \\\n",
    "             + (fta6 + ftal6*log(2.*theta))*theta6 \\\n",
    "             + fta7*theta7)\n",
    "\n",
    "    return full * 2 * PI # 2pi to go from freq to angular freq"
   ]
  },
  {
   "cell_type": "code",
   "execution_count": 55,
   "metadata": {},
   "outputs": [],
   "source": [
    "def freq_ins_ansatz(t, eta, tc,b,c,M):\n",
    "    \"\"\"\n",
    "    this is the frequency inspiral ansatz.\n",
    "    I needed an separate function so that I could use it in the amplitude inspiral model\n",
    "    \"\"\"\n",
    "\n",
    "    tau = eta * (tc - t) / (5*M)\n",
    "    model = (TaylorT3_Omega_new(t, tc, eta, M) + b*tau**(-9./8.) + c*tau**(-10./8.))\n",
    "\n",
    "    return model"
   ]
  },
  {
   "cell_type": "code",
   "execution_count": 54,
   "metadata": {},
   "outputs": [],
   "source": [
    "def Hhat22_x(x, eta):\n",
    "\n",
    "    xarr = [0.+1j*0.,0.+1j*0.,0.+1j*0.,0.+1j*0.,0.+1j*0.,0.+1j*0.]\n",
    "\n",
    "    C = 0.577216 # is the Euler constant\n",
    "\n",
    "    xarr[0] = 1.\n",
    "    xarr[1] = -107./42 + 55*eta/42\n",
    "    xarr[2] = 2.*PI\n",
    "    xarr[3] = -2173./1512 - 1069.*eta/216 + 2047.*eta**2/1512\n",
    "    xarr[4] = (-107*PI/21 - 24.*1.j*eta + 34.*PI*eta/21)\n",
    "\n",
    "    x5a = 27027409./646800 - 856.*C/105 + 428*1.j*PI/105 + 2.*PI**2/3\n",
    "    x5b = (-278185./33264 + 41*PI**2/96)*eta - 20261.*eta**2/2772 + 114635.*eta**3/99792\n",
    "\n",
    "    x5log =  - 428.*log(16*x)/105\n",
    "\n",
    "    xarr[5] = (x5a) + x5b\n",
    "\n",
    "    pre = sqrt(16.*PI/5) * 2 * eta\n",
    "\n",
    "    pn = xarr[0] + x*xarr[1] + x**(3/2.)*xarr[2] + x**2*xarr[3] + x**(5/2.)*xarr[4] + x**3*(xarr[5] + x5log)\n",
    "\n",
    "    return abs(pre * pn * x)"
   ]
  },
  {
   "cell_type": "code",
   "execution_count": 37,
   "metadata": {},
   "outputs": [],
   "source": [
    "@vectorize(['float64(float64,float64,float64,float64,float64,float64,float64)'])\n",
    "def amp_ins_ansatz(t, eta, tc, a0, a1, b, c):\n",
    "\n",
    "    tau = (tc-t)\n",
    "\n",
    "    GW22AngFreq = freq_ins_ansatz(t, eta, tc, b, c, 1)\n",
    "    OrgAngFreq = GW22AngFreq / 2.\n",
    "\n",
    "    M = 1.\n",
    "    x = (M*OrgAngFreq)**(2./3.)\n",
    "\n",
    "    T3amp = Hhat22_x(x, eta)\n",
    "\n",
    "    model = T3amp + a0*tau**(-9./8.) + a1*tau**(-10./8.)\n",
    "\n",
    "    return model"
   ]
  },
  {
   "cell_type": "code",
   "execution_count": null,
   "metadata": {},
   "outputs": [],
   "source": []
  },
  {
   "cell_type": "code",
   "execution_count": 38,
   "metadata": {},
   "outputs": [],
   "source": [
    "q = 1.\n",
    "eta = 1. / (1. + q)**2"
   ]
  },
  {
   "cell_type": "code",
   "execution_count": 39,
   "metadata": {},
   "outputs": [],
   "source": [
    "freq_inc_tc = PSF_freq_ins('tc',eta)\n",
    "freq_inc_b = PSF_freq_ins('b',eta)\n",
    "freq_inc_c = PSF_freq_ins('c',eta)\n",
    "amp_a0 = PSF_amp_ins('a0', eta)\n",
    "amp_a1 = PSF_amp_ins('a1', eta)"
   ]
  },
  {
   "cell_type": "code",
   "execution_count": 69,
   "metadata": {},
   "outputs": [],
   "source": [
    "times = np.arange(-1000.,-500.,1./(2048*8))"
   ]
  },
  {
   "cell_type": "code",
   "execution_count": 70,
   "metadata": {},
   "outputs": [
    {
     "name": "stdout",
     "output_type": "stream",
     "text": [
      "3.67 s ± 44.1 ms per loop (mean ± std. dev. of 7 runs, 1 loop each)\n"
     ]
    }
   ],
   "source": [
    "%timeit amp_ins_ansatz(times, eta, freq_inc_tc, amp_a0, amp_a1, freq_inc_b, freq_inc_c)"
   ]
  },
  {
   "cell_type": "code",
   "execution_count": 61,
   "metadata": {},
   "outputs": [],
   "source": [
    "params = {\n",
    "    'tc':freq_inc_tc,\n",
    "    'b':freq_inc_b,\n",
    "    'c':freq_inc_c,\n",
    "    'a0':amp_a0,\n",
    "    'a1':amp_a1\n",
    "}"
   ]
  },
  {
   "cell_type": "code",
   "execution_count": 71,
   "metadata": {},
   "outputs": [
    {
     "name": "stdout",
     "output_type": "stream",
     "text": [
      "2.48 s ± 86 ms per loop (mean ± std. dev. of 7 runs, 1 loop each)\n"
     ]
    }
   ],
   "source": [
    "%timeit chirpy_mk1.amp_ins_ansatz(times,eta,params)"
   ]
  },
  {
   "cell_type": "code",
   "execution_count": null,
   "metadata": {},
   "outputs": [],
   "source": []
  }
 ],
 "metadata": {
  "kernelspec": {
   "display_name": "Python 3",
   "language": "python",
   "name": "python3"
  },
  "language_info": {
   "codemirror_mode": {
    "name": "ipython",
    "version": 3
   },
   "file_extension": ".py",
   "mimetype": "text/x-python",
   "name": "python",
   "nbconvert_exporter": "python",
   "pygments_lexer": "ipython3",
   "version": "3.7.3"
  }
 },
 "nbformat": 4,
 "nbformat_minor": 2
}
